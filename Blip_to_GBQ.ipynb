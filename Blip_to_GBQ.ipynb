{
 "cells": [
  {
   "cell_type": "code",
   "execution_count": 12,
   "id": "b23af94d",
   "metadata": {},
   "outputs": [
    {
     "name": "stdout",
     "output_type": "stream",
     "text": [
      "Defaulting to user installation because normal site-packages is not writeable\n",
      "Requirement already satisfied: pip in /Library/Developer/CommandLineTools/Library/Frameworks/Python3.framework/Versions/3.9/lib/python3.9/site-packages (21.2.4)\n",
      "Requirement already satisfied: install in /Users/jaredesantos/Library/Python/3.9/lib/python/site-packages (1.3.5)\n",
      "Requirement already satisfied: google-cloud-bigquery in /Users/jaredesantos/Library/Python/3.9/lib/python/site-packages (3.13.0)\n",
      "Requirement already satisfied: proto-plus<2.0.0dev,>=1.15.0 in /Users/jaredesantos/Library/Python/3.9/lib/python/site-packages (from google-cloud-bigquery) (1.22.3)\n",
      "Requirement already satisfied: google-cloud-core<3.0.0dev,>=1.6.0 in /Users/jaredesantos/Library/Python/3.9/lib/python/site-packages (from google-cloud-bigquery) (2.3.3)\n",
      "Requirement already satisfied: requests<3.0.0dev,>=2.21.0 in /Users/jaredesantos/Library/Python/3.9/lib/python/site-packages (from google-cloud-bigquery) (2.31.0)\n",
      "Requirement already satisfied: google-api-core[grpc]!=2.0.*,!=2.1.*,!=2.2.*,!=2.3.0,<3.0.0dev,>=1.31.5 in /Users/jaredesantos/Library/Python/3.9/lib/python/site-packages (from google-cloud-bigquery) (2.12.0)\n",
      "Requirement already satisfied: grpcio<2.0dev,>=1.47.0 in /Users/jaredesantos/Library/Python/3.9/lib/python/site-packages (from google-cloud-bigquery) (1.59.2)\n",
      "Requirement already satisfied: protobuf!=3.20.0,!=3.20.1,!=4.21.0,!=4.21.1,!=4.21.2,!=4.21.3,!=4.21.4,!=4.21.5,<5.0.0dev,>=3.19.5 in /Users/jaredesantos/Library/Python/3.9/lib/python/site-packages (from google-cloud-bigquery) (4.24.4)\n",
      "Requirement already satisfied: google-resumable-media<3.0dev,>=0.6.0 in /Users/jaredesantos/Library/Python/3.9/lib/python/site-packages (from google-cloud-bigquery) (2.6.0)\n",
      "Requirement already satisfied: python-dateutil<3.0dev,>=2.7.2 in /Users/jaredesantos/Library/Python/3.9/lib/python/site-packages (from google-cloud-bigquery) (2.8.2)\n",
      "Requirement already satisfied: packaging>=20.0.0 in /Users/jaredesantos/Library/Python/3.9/lib/python/site-packages (from google-cloud-bigquery) (23.2)\n",
      "Requirement already satisfied: google-auth<3.0.dev0,>=2.14.1 in /Users/jaredesantos/Library/Python/3.9/lib/python/site-packages (from google-api-core[grpc]!=2.0.*,!=2.1.*,!=2.2.*,!=2.3.0,<3.0.0dev,>=1.31.5->google-cloud-bigquery) (2.23.3)\n",
      "Requirement already satisfied: googleapis-common-protos<2.0.dev0,>=1.56.2 in /Users/jaredesantos/Library/Python/3.9/lib/python/site-packages (from google-api-core[grpc]!=2.0.*,!=2.1.*,!=2.2.*,!=2.3.0,<3.0.0dev,>=1.31.5->google-cloud-bigquery) (1.61.0)\n",
      "Requirement already satisfied: grpcio-status<2.0.dev0,>=1.33.2 in /Users/jaredesantos/Library/Python/3.9/lib/python/site-packages (from google-api-core[grpc]!=2.0.*,!=2.1.*,!=2.2.*,!=2.3.0,<3.0.0dev,>=1.31.5->google-cloud-bigquery) (1.59.2)\n",
      "Requirement already satisfied: cachetools<6.0,>=2.0.0 in /Users/jaredesantos/Library/Python/3.9/lib/python/site-packages (from google-auth<3.0.dev0,>=2.14.1->google-api-core[grpc]!=2.0.*,!=2.1.*,!=2.2.*,!=2.3.0,<3.0.0dev,>=1.31.5->google-cloud-bigquery) (5.3.1)\n",
      "Requirement already satisfied: pyasn1-modules>=0.2.1 in /Users/jaredesantos/Library/Python/3.9/lib/python/site-packages (from google-auth<3.0.dev0,>=2.14.1->google-api-core[grpc]!=2.0.*,!=2.1.*,!=2.2.*,!=2.3.0,<3.0.0dev,>=1.31.5->google-cloud-bigquery) (0.3.0)\n",
      "Requirement already satisfied: rsa<5,>=3.1.4 in /Users/jaredesantos/Library/Python/3.9/lib/python/site-packages (from google-auth<3.0.dev0,>=2.14.1->google-api-core[grpc]!=2.0.*,!=2.1.*,!=2.2.*,!=2.3.0,<3.0.0dev,>=1.31.5->google-cloud-bigquery) (4.9)\n",
      "Requirement already satisfied: google-crc32c<2.0dev,>=1.0 in /Users/jaredesantos/Library/Python/3.9/lib/python/site-packages (from google-resumable-media<3.0dev,>=0.6.0->google-cloud-bigquery) (1.5.0)\n",
      "Requirement already satisfied: pyasn1<0.6.0,>=0.4.6 in /Users/jaredesantos/Library/Python/3.9/lib/python/site-packages (from pyasn1-modules>=0.2.1->google-auth<3.0.dev0,>=2.14.1->google-api-core[grpc]!=2.0.*,!=2.1.*,!=2.2.*,!=2.3.0,<3.0.0dev,>=1.31.5->google-cloud-bigquery) (0.5.0)\n",
      "Requirement already satisfied: six>=1.5 in /Library/Developer/CommandLineTools/Library/Frameworks/Python3.framework/Versions/3.9/lib/python3.9/site-packages (from python-dateutil<3.0dev,>=2.7.2->google-cloud-bigquery) (1.15.0)\n",
      "Requirement already satisfied: urllib3<3,>=1.21.1 in /Users/jaredesantos/Library/Python/3.9/lib/python/site-packages (from requests<3.0.0dev,>=2.21.0->google-cloud-bigquery) (1.26.17)\n",
      "Requirement already satisfied: idna<4,>=2.5 in /Users/jaredesantos/Library/Python/3.9/lib/python/site-packages (from requests<3.0.0dev,>=2.21.0->google-cloud-bigquery) (3.4)\n",
      "Requirement already satisfied: certifi>=2017.4.17 in /Users/jaredesantos/Library/Python/3.9/lib/python/site-packages (from requests<3.0.0dev,>=2.21.0->google-cloud-bigquery) (2023.7.22)\n",
      "Requirement already satisfied: charset-normalizer<4,>=2 in /Users/jaredesantos/Library/Python/3.9/lib/python/site-packages (from requests<3.0.0dev,>=2.21.0->google-cloud-bigquery) (3.3.0)\n",
      "\u001b[33mWARNING: You are using pip version 21.2.4; however, version 23.3.1 is available.\n",
      "You should consider upgrading via the '/Library/Developer/CommandLineTools/usr/bin/python3 -m pip install --upgrade pip' command.\u001b[0m\n",
      "Note: you may need to restart the kernel to use updated packages.\n"
     ]
    }
   ],
   "source": [
    "%pip install pip install google-cloud-bigquery"
   ]
  },
  {
   "cell_type": "code",
   "execution_count": 13,
   "id": "1d60c07b",
   "metadata": {},
   "outputs": [],
   "source": [
    "###################################\n",
    "# Importa bibliotecas necessárias #\n",
    "###################################\n",
    "\n",
    "import requests, re , os, time, zipfile, io, boto3, json, pandas as pd\n",
    "from datetime import datetime , date , timedelta\n",
    "from google.cloud import bigquery\n",
    "from google.oauth2 import service_account"
   ]
  },
  {
   "cell_type": "code",
   "execution_count": 14,
   "id": "e8655eaa",
   "metadata": {},
   "outputs": [],
   "source": [
    "##################\n",
    "# Conecta ao GBQ #\n",
    "##################\n",
    "\n",
    "gbq_json_credentials = {} # credenciais ocultadas\n",
    "\n",
    "gbq_credentials = service_account.Credentials.from_service_account_info(gbq_json_credentials, scopes = [\"https://www.googleapis.com/auth/cloud-platform\"])"
   ]
  },
  {
   "cell_type": "code",
   "execution_count": 15,
   "id": "24a3b6a2",
   "metadata": {},
   "outputs": [],
   "source": [
    "###########################\n",
    "# Declara a Classe Pandas #\n",
    "###########################\n",
    "\n",
    "class Pandas:\n",
    "    def date_format(date):\n",
    "        if date:\n",
    "            return pd.to_datetime(date).strftime(\"%Y-%m-%dT%H:%M:%S.%Z\")\n",
    "\n",
    "    def data_transform(json , datetime_columns , list_columns):\n",
    "        df = pd.json_normalize(json)\n",
    "        if datetime_columns:\n",
    "             for column in datetime_columns:\n",
    "                if df[column].isnull().all() == False:\n",
    "                    df[column] = df[column].astype(str)\n",
    "                    df[column] = df[column].apply(lambda x : None if x==\"NaT\" else x)\n",
    "                    df[column] = df[column].apply(lambda x : None if x==\"NaN\" else x)\n",
    "                    df[column] = df[column].apply(lambda x : None if x==\"nan\" else x)\n",
    "                    df[column] = df[column].apply(lambda x : None if x==\"None\" else x)  \n",
    "                    df[column] = df[column].apply(Pandas.date_format) \n",
    "        for column in df.columns:\n",
    "            df[column] = df[column].apply(lambda x: x if not isinstance(x, list) else \" \".join(x))\n",
    "            \n",
    "        return df"
   ]
  },
  {
   "cell_type": "code",
   "execution_count": 16,
   "id": "629025fe",
   "metadata": {},
   "outputs": [],
   "source": [
    "###########################\n",
    "# Declara classe BigQuery #\n",
    "###########################\n",
    "\n",
    "class BigQuery:\n",
    "  \n",
    "    def bq_para_df(project_id, table):\n",
    "        sql = \"\"\"\n",
    "            SELECT MAX(created_at)\n",
    "            FROM `{project_id}.{table}`\n",
    "            \"\"\".format(project_id=project_id, table=table)\n",
    "        df = pd.read_gbq(credentials=gbq_credentials, query=sql)\n",
    "        return df\n",
    "    \n",
    "    def data_insertion(df, table , credentials , skip):\n",
    "        # envia para GBQ\n",
    "        print(\"Enviando para GBQ:\")\n",
    "        client = bigquery.Client(credentials=credentials, project=credentials.project_id)\n",
    "        table_id = \"data-lake-364518.\" + table\n",
    "        job_config = bigquery.LoadJobConfig()\n",
    "        job_config.autodetect = True\n",
    "        job = client.load_table_from_dataframe(df, table_id, job_config=job_config)\n",
    "        job.result()\n",
    "        print(f\"Dados inseridos na tabela {table} - GBQ - Skip:{skip}\")\n",
    "    "
   ]
  },
  {
   "cell_type": "code",
   "execution_count": 17,
   "id": "0dba2cf6",
   "metadata": {},
   "outputs": [],
   "source": [
    "#Pega o dia de ontem\n",
    "yesterday = date.today() - timedelta(days=1)"
   ]
  },
  {
   "cell_type": "code",
   "execution_count": 19,
   "id": "63b14ad3",
   "metadata": {},
   "outputs": [
    {
     "name": "stdout",
     "output_type": "stream",
     "text": [
      "Enviando para GBQ:\n",
      "Dados inseridos na tabela Data_Lake_Raw.blip_tickets - GBQ - Skip:0\n",
      "Enviando para GBQ:\n",
      "Dados inseridos na tabela Data_Lake_Raw.blip_tickets_entregadores - GBQ - Skip:0\n",
      "Enviando para GBQ:\n",
      "Dados inseridos na tabela Data_Lake_Raw.blip_tickets_entregadores - GBQ - Skip:100\n",
      "Enviando para GBQ:\n",
      "Dados inseridos na tabela Data_Lake_Raw.blip_tickets_entregadores - GBQ - Skip:200\n",
      "Enviando para GBQ:\n",
      "Dados inseridos na tabela Data_Lake_Raw.blip_tickets_entregadores - GBQ - Skip:300\n",
      "Enviando para GBQ:\n",
      "Dados inseridos na tabela Data_Lake_Raw.blip_tickets_entregadores - GBQ - Skip:400\n",
      "Enviando para GBQ:\n",
      "Dados inseridos na tabela Data_Lake_Raw.blip_tickets_entregadores - GBQ - Skip:500\n",
      "Enviando para GBQ:\n",
      "Dados inseridos na tabela Data_Lake_Raw.blip_tickets_entregadores - GBQ - Skip:600\n"
     ]
    }
   ],
   "source": [
    "datetime_columns = ['storageDate' , 'openDate' , 'closeDate' , 'statusDate' , 'firstResponseDate']\n",
    "# datetime_columns = []\n",
    "list_columns = ['tags']\n",
    "\n",
    "skip = 0\n",
    "has_tickets = True\n",
    "\n",
    "blip_chats = [{'name':'transbordoal - Lojas' , 'Authorization': 'Key dHJhbnNib3Jkb2FscHJkOnRrYVE2dG5aeVI5M1ZrVnhZYTI0' , 'table_to':'Data_Lake_Raw.blip_tickets'},\n",
    "              {'name':'transbordoaf - Entregadores' , 'Authorization': 'Key dHJhbnNib3Jkb3Byb2Q6eVpyZU1KSE1INk9PZ0JIc25wb2c=' , 'table_to':'Data_Lake_Raw.blip_tickets_entregadores'}]\n",
    "\n",
    "for chat in blip_chats:\n",
    "  table_to = chat[\"table_to\"]\n",
    "\n",
    "  # Executa o enquanto houver tickets\n",
    "  while has_tickets != False:\n",
    "\n",
    "    url = 'https://americanas.http.msging.net/commands'\n",
    "    headers = {'Content-Type': 'application/json', 'Authorization': chat[\"Authorization\"]}\n",
    "    body = {\n",
    "      \"id\": \"{{$guid}}\",\n",
    "      \"to\": \"postmaster@desk.msging.net\",\n",
    "      \"method\": \"get\",\n",
    "      \"uri\": f\"/tickets?$take=100&$skip={skip}&$filter=(statusDate%20ge%20datetimeoffset'{yesterday}T00:00:00.000Z')\"\n",
    "    }\n",
    "\n",
    "    response = requests.post( url , headers=headers , json=body)\n",
    "    if (response.status_code == 200):\n",
    "        blip_json = response.json()\n",
    "        blip_tickets = blip_json['resource']['items']\n",
    "        if blip_tickets:\n",
    "          has_tickets = True\n",
    "        else:\n",
    "          has_tickets = False\n",
    "          break\n",
    "        df = Pandas.data_transform(json=blip_tickets , datetime_columns=datetime_columns , list_columns=list_columns)\n",
    "        try:\n",
    "          BigQuery.data_insertion(df=df, table=table_to , credentials=gbq_credentials , skip=skip)\n",
    "        except Exception as e:\n",
    "          print(e)\n",
    "        skip += 100\n",
    "    else: \n",
    "      print( 'Erro durante a requisição: ' , response , response.json)\n",
    "      break\n",
    "\n",
    "  del table_to , df\n",
    "  has_tickets = True\n",
    "  skip = 0"
   ]
  }
 ],
 "metadata": {
  "kernelspec": {
   "display_name": "Python 3 (ipykernel)",
   "language": "python",
   "name": "python3"
  },
  "language_info": {
   "codemirror_mode": {
    "name": "ipython",
    "version": 3
   },
   "file_extension": ".py",
   "mimetype": "text/x-python",
   "name": "python",
   "nbconvert_exporter": "python",
   "pygments_lexer": "ipython3",
   "version": "3.9.6"
  }
 },
 "nbformat": 4,
 "nbformat_minor": 5
}
